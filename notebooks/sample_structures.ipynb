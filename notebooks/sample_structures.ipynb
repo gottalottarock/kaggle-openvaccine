{
 "cells": [
  {
   "cell_type": "code",
   "execution_count": 70,
   "metadata": {
    "Collapsed": "false"
   },
   "outputs": [],
   "source": [
    "import pandas as pd\n",
    "import subprocess\n",
    "from tqdm.auto import tqdm\n",
    "import forgi"
   ]
  },
  {
   "cell_type": "code",
   "execution_count": 3,
   "metadata": {
    "Collapsed": "false"
   },
   "outputs": [],
   "source": [
    "df_train = pd.read_json(\"../data/train.json\",lines=True)"
   ]
  },
  {
   "cell_type": "code",
   "execution_count": 4,
   "metadata": {
    "Collapsed": "false"
   },
   "outputs": [],
   "source": [
    "df_test = pd.read_json(\"../data/test.json\", lines=True)"
   ]
  },
  {
   "cell_type": "code",
   "execution_count": 6,
   "metadata": {
    "Collapsed": "false"
   },
   "outputs": [],
   "source": [
    "df = pd.concat([df_train,df_test])"
   ]
  },
  {
   "cell_type": "code",
   "execution_count": 11,
   "metadata": {
    "Collapsed": "false"
   },
   "outputs": [],
   "source": [
    "for id_, seq in df[['id','sequence']].values:\n",
    "    with open('./tmp/input.fasta','w') as f:\n",
    "        f.write('>0\\n'+seq)\n",
    "    break"
   ]
  },
  {
   "cell_type": "code",
   "execution_count": 12,
   "metadata": {
    "Collapsed": "false"
   },
   "outputs": [
    {
     "name": "stdout",
     "output_type": "stream",
     "text": [
      ">0\n",
      "GGAAAAGCUCUAAUAACAGGAGACUAGGACUACGUAUUUCUAGGUAACUGGAAUAACCCAUACCAGCAGUUAGAGUUCGCUCUAACAAAAGAAACAACAACAACAAC"
     ]
    }
   ],
   "source": [
    "!cat ./tmp/input.fasta"
   ]
  },
  {
   "cell_type": "code",
   "execution_count": 28,
   "metadata": {
    "Collapsed": "false"
   },
   "outputs": [],
   "source": [
    "seq = \"GGAAAACGUGGGUGCGCGAAGUCCUACGUACGUGAAACACGGGACGUACCGGCAAGCGGACGGACGUACUUUUGAUUCGUCAAAAGAAAAGAAACAACAACAACAAC\""
   ]
  },
  {
   "cell_type": "code",
   "execution_count": 42,
   "metadata": {
    "Collapsed": "false"
   },
   "outputs": [],
   "source": [
    "my_envs = os.environ.copy()\n",
    "my_envs['PATH'] = '/home/stepan/.local/bin:/home/stepan/perl5/bin:/home/stepan/perl5/bin:/media/stepan/files/projects/private/openVaccine/envs/graph/bin:/home/stepan/miniconda3/condabin:/home/stepan/.local/bin:/usr/local/sbin:/usr/local/bin:/usr/sbin:/usr/bin:/sbin:/bin:/usr/games:/usr/local/games:/home/stepan/.npm-global/bin:/home/stepan/.npm-global/bin'"
   ]
  },
  {
   "cell_type": "code",
   "execution_count": 52,
   "metadata": {
    "Collapsed": "false"
   },
   "outputs": [],
   "source": [
    "cp = subprocess.run(\"RNAsubopt < ./tmp/input.fasta\", shell=True,env=my_envs,capture_output=True)"
   ]
  },
  {
   "cell_type": "code",
   "execution_count": 65,
   "metadata": {
    "Collapsed": "false"
   },
   "outputs": [
    {
     "data": {
      "text/plain": [
       "0"
      ]
     },
     "execution_count": 65,
     "metadata": {},
     "output_type": "execute_result"
    }
   ],
   "source": [
    "cp.returncode"
   ]
  },
  {
   "cell_type": "code",
   "execution_count": 67,
   "metadata": {
    "Collapsed": "false"
   },
   "outputs": [],
   "source": [
    "def sample_structures(sequence):\n",
    "    with open('./tmp/input.fasta','w') as f:\n",
    "        f.write('>0\\n'+sequence)\n",
    "    cp = subprocess.run(\"RNAsubopt < ./tmp/input.fasta\", shell=True,env=my_envs,capture_output=True)\n",
    "    assert cp.returncode == 0\n",
    "    structures = [line.split( ) for line in str(cp.stdout).split('\\\\n')[2:-1]]\n",
    "    return [{\"structure\": struct, \"energy\": energy} for struct, energy in structures]"
   ]
  },
  {
   "cell_type": "code",
   "execution_count": 96,
   "metadata": {
    "Collapsed": "false"
   },
   "outputs": [],
   "source": [
    "def create_cg(sequence, structure):\n",
    "    with open('./tmp/tmp_seq.dbn','w') as f:\n",
    "        f.write('\\n'.join([sequence, structure]))\n",
    "    cgs = forgi.load_rna('./tmp/tmp_seq.dbn')\n",
    "    assert len(cgs) == 1\n",
    "    cg, = cgs\n",
    "    return cg"
   ]
  },
  {
   "cell_type": "code",
   "execution_count": 98,
   "metadata": {
    "Collapsed": "false"
   },
   "outputs": [],
   "source": [
    "cg = create_cg(sequence, structure)"
   ]
  },
  {
   "cell_type": "code",
   "execution_count": 73,
   "metadata": {
    "Collapsed": "false"
   },
   "outputs": [],
   "source": [
    "def cg_to_d(cg):\n",
    "    nodes = {}\n",
    "    edges = []\n",
    "    for name, items in cg.defines.items():\n",
    "        segments = None\n",
    "        if len(items) == 2:\n",
    "            segments = [items]\n",
    "        elif len(items) == 4:\n",
    "            segments = [items[:2],items[2:]]\n",
    "        elif len(items) == 0:\n",
    "            segments = []\n",
    "        else:\n",
    "            print(name, items)\n",
    "            assert False\n",
    "        segments = [(seg[0]-1, seg[1]) for seg in segments]\n",
    "        nodes[name] = segments\n",
    "    for edge_start, edge_ends in cg.edges.items():\n",
    "        for edge_end in edge_ends:\n",
    "            edges.append((edge_start,edge_end))\n",
    "    return {\"nodes\":nodes, \"edges\":edges}"
   ]
  },
  {
   "cell_type": "code",
   "execution_count": 74,
   "metadata": {
    "Collapsed": "false"
   },
   "outputs": [
    {
     "data": {
      "application/vnd.jupyter.widget-view+json": {
       "model_id": "cd8f2d9e724241b2a5baf21195d552c1",
       "version_major": 2,
       "version_minor": 0
      },
      "text/plain": [
       "HBox(children=(FloatProgress(value=0.0, max=6034.0), HTML(value='')))"
      ]
     },
     "metadata": {},
     "output_type": "display_data"
    },
    {
     "name": "stdout",
     "output_type": "stream",
     "text": [
      "\n"
     ]
    }
   ],
   "source": [
    "sampled_structures = {}\n",
    "for id_, sequence in tqdm(df[['id','sequence']].values):\n",
    "    res = sample_structures(sequence)\n",
    "    for d in res:\n",
    "        structure = d['structure']\n",
    "        cg = create_cg(sequence, structure)\n",
    "        d.update(cg_to_d(cg))\n",
    "    sampled_structures[id_] = res"
   ]
  },
  {
   "cell_type": "code",
   "execution_count": 76,
   "metadata": {
    "Collapsed": "false"
   },
   "outputs": [],
   "source": [
    "import json"
   ]
  },
  {
   "cell_type": "code",
   "execution_count": 130,
   "metadata": {
    "Collapsed": "false"
   },
   "outputs": [],
   "source": [
    "with open('../data/sampled_structures.json','w') as f:\n",
    "    json.dump(sampled_structures, f)"
   ]
  },
  {
   "cell_type": "code",
   "execution_count": 121,
   "metadata": {
    "Collapsed": "false"
   },
   "outputs": [],
   "source": [
    "import numpy as np"
   ]
  },
  {
   "cell_type": "code",
   "execution_count": 2,
   "metadata": {
    "Collapsed": "false"
   },
   "outputs": [
    {
     "ename": "NameError",
     "evalue": "name 'structures' is not defined",
     "output_type": "error",
     "traceback": [
      "\u001b[0;31m---------------------------------------------------------------------------\u001b[0m",
      "\u001b[0;31mNameError\u001b[0m                                 Traceback (most recent call last)",
      "\u001b[0;32m<ipython-input-2-109dc7d786cc>\u001b[0m in \u001b[0;36m<module>\u001b[0;34m\u001b[0m\n\u001b[0;32m----> 1\u001b[0;31m \u001b[0;32mfor\u001b[0m \u001b[0mrecs\u001b[0m \u001b[0;32min\u001b[0m \u001b[0mstructures\u001b[0m\u001b[0;34m.\u001b[0m\u001b[0mvalues\u001b[0m\u001b[0;34m(\u001b[0m\u001b[0;34m)\u001b[0m\u001b[0;34m:\u001b[0m\u001b[0;34m\u001b[0m\u001b[0;34m\u001b[0m\u001b[0m\n\u001b[0m\u001b[1;32m      2\u001b[0m     \u001b[0mloop_type\u001b[0m \u001b[0;34m=\u001b[0m \u001b[0;34m[\u001b[0m\u001b[0;34m'o'\u001b[0m\u001b[0;34m]\u001b[0m\u001b[0;34m*\u001b[0m\u001b[0mlen\u001b[0m\u001b[0;34m(\u001b[0m\u001b[0mrecs\u001b[0m\u001b[0;34m[\u001b[0m\u001b[0;34m'structure'\u001b[0m\u001b[0;34m]\u001b[0m\u001b[0;34m)\u001b[0m\u001b[0;34m\u001b[0m\u001b[0;34m\u001b[0m\u001b[0m\n\u001b[1;32m      3\u001b[0m     \u001b[0;32mfor\u001b[0m \u001b[0mnode_name\u001b[0m\u001b[0;34m,\u001b[0m \u001b[0mspans\u001b[0m \u001b[0;32min\u001b[0m \u001b[0mrec\u001b[0m\u001b[0;34m[\u001b[0m\u001b[0;34m'nodes'\u001b[0m\u001b[0;34m]\u001b[0m\u001b[0;34m.\u001b[0m\u001b[0mitems\u001b[0m\u001b[0;34m(\u001b[0m\u001b[0;34m)\u001b[0m\u001b[0;34m:\u001b[0m\u001b[0;34m\u001b[0m\u001b[0;34m\u001b[0m\u001b[0m\n\u001b[1;32m      4\u001b[0m         \u001b[0;32mfor\u001b[0m \u001b[0mspan\u001b[0m \u001b[0;32min\u001b[0m \u001b[0mspans\u001b[0m\u001b[0;34m:\u001b[0m\u001b[0;34m\u001b[0m\u001b[0;34m\u001b[0m\u001b[0m\n\u001b[1;32m      5\u001b[0m             \u001b[0;32mfor\u001b[0m \u001b[0mi\u001b[0m \u001b[0;32min\u001b[0m \u001b[0mrange\u001b[0m\u001b[0;34m(\u001b[0m\u001b[0;34m*\u001b[0m\u001b[0mspan\u001b[0m\u001b[0;34m)\u001b[0m\u001b[0;34m:\u001b[0m\u001b[0;34m\u001b[0m\u001b[0;34m\u001b[0m\u001b[0m\n",
      "\u001b[0;31mNameError\u001b[0m: name 'structures' is not defined"
     ]
    }
   ],
   "source": [
    "for recs in .values():\n",
    "    loop_type = ['o']*len(recs['structure'])\n",
    "    for node_name, spans in rec['nodes'].items():\n",
    "        for span in spans:\n",
    "            for i in range(*span):\n",
    "                loop_type[i] = node_name[0]\n",
    "    rec['loop_type'] = loop_type"
   ]
  },
  {
   "cell_type": "code",
   "execution_count": 84,
   "metadata": {
    "Collapsed": "false"
   },
   "outputs": [],
   "source": [
    "import seaborn as sns"
   ]
  },
  {
   "cell_type": "code",
   "execution_count": 94,
   "metadata": {
    "Collapsed": "false"
   },
   "outputs": [],
   "source": [
    "from collections import Counter"
   ]
  },
  {
   "cell_type": "code",
   "execution_count": 95,
   "metadata": {
    "Collapsed": "false"
   },
   "outputs": [
    {
     "data": {
      "text/plain": [
       "[(1, 1235),\n",
       " (2, 882),\n",
       " (3, 584),\n",
       " (4, 559),\n",
       " (5, 511),\n",
       " (6, 328),\n",
       " (10, 219),\n",
       " (7, 181),\n",
       " (8, 171),\n",
       " (9, 161),\n",
       " (12, 121),\n",
       " (11, 112),\n",
       " (16, 103),\n",
       " (14, 85),\n",
       " (13, 81),\n",
       " (15, 67),\n",
       " (17, 55),\n",
       " (19, 52),\n",
       " (18, 49),\n",
       " (20, 47),\n",
       " (21, 38),\n",
       " (24, 31),\n",
       " (22, 30),\n",
       " (27, 24),\n",
       " (30, 24),\n",
       " (26, 19),\n",
       " (23, 18),\n",
       " (29, 14),\n",
       " (33, 13),\n",
       " (28, 12),\n",
       " (25, 12),\n",
       " (36, 12),\n",
       " (31, 12),\n",
       " (34, 10),\n",
       " (35, 10),\n",
       " (37, 10),\n",
       " (42, 8),\n",
       " (40, 8),\n",
       " (47, 7),\n",
       " (32, 5),\n",
       " (51, 5),\n",
       " (64, 4),\n",
       " (39, 4),\n",
       " (48, 4),\n",
       " (38, 4),\n",
       " (58, 4),\n",
       " (52, 4),\n",
       " (43, 4),\n",
       " (46, 4),\n",
       " (41, 4),\n",
       " (54, 4),\n",
       " (126, 3),\n",
       " (65, 3),\n",
       " (44, 3),\n",
       " (45, 3),\n",
       " (50, 3),\n",
       " (57, 3),\n",
       " (56, 3),\n",
       " (88, 2),\n",
       " (84, 2),\n",
       " (61, 2),\n",
       " (78, 2),\n",
       " (96, 2),\n",
       " (63, 2),\n",
       " (68, 2),\n",
       " (76, 2),\n",
       " (129, 1),\n",
       " (149, 1),\n",
       " (82, 1),\n",
       " (94, 1),\n",
       " (144, 1),\n",
       " (142, 1),\n",
       " (138, 1),\n",
       " (72, 1),\n",
       " (238, 1),\n",
       " (171, 1),\n",
       " (120, 1),\n",
       " (60, 1),\n",
       " (158, 1),\n",
       " (87, 1),\n",
       " (119, 1),\n",
       " (121, 1),\n",
       " (53, 1),\n",
       " (141, 1),\n",
       " (83, 1),\n",
       " (114, 1),\n",
       " (170, 1),\n",
       " (98, 1),\n",
       " (75, 1),\n",
       " (117, 1),\n",
       " (90, 1),\n",
       " (55, 1),\n",
       " (123, 1),\n",
       " (102, 1),\n",
       " (187, 1),\n",
       " (79, 1),\n",
       " (71, 1),\n",
       " (111, 1),\n",
       " ('log_scale', 1),\n",
       " ('kde', 0)]"
      ]
     },
     "execution_count": 95,
     "metadata": {},
     "output_type": "execute_result"
    }
   ],
   "source": [
    "Counter([len(v) for v in sampled_structures.values()],kde=False, log_scale=True).most_common()"
   ]
  },
  {
   "cell_type": "code",
   "execution_count": null,
   "metadata": {
    "Collapsed": "false"
   },
   "outputs": [],
   "source": []
  }
 ],
 "metadata": {
  "kernelspec": {
   "display_name": "graph_openvaccine",
   "language": "python",
   "name": "graph_openvaccine"
  },
  "language_info": {
   "codemirror_mode": {
    "name": "ipython",
    "version": 3
   },
   "file_extension": ".py",
   "mimetype": "text/x-python",
   "name": "python",
   "nbconvert_exporter": "python",
   "pygments_lexer": "ipython3",
   "version": "3.7.8"
  }
 },
 "nbformat": 4,
 "nbformat_minor": 4
}
