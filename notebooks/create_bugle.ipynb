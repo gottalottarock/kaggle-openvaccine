{
 "cells": [
  {
   "cell_type": "code",
   "execution_count": 4,
   "metadata": {
    "Collapsed": "false"
   },
   "outputs": [],
   "source": [
    "!mkdir ./tmpa"
   ]
  },
  {
   "cell_type": "code",
   "execution_count": 173,
   "metadata": {
    "Collapsed": "false"
   },
   "outputs": [],
   "source": [
    "from tqdm.auto import tqdm\n",
    "import matplotlib.pyplot as plt\n",
    "import forgi.visual.mplotlib as fvm\n",
    "import pandas as pd\n",
    "plt.rcParams[\"figure.figsize\"] = (20,20)\n",
    "import json\n",
    "\n",
    "import forgi\n",
    "# cg = forgi.load_rna(\"examples/input/1y26.fx\", allow_many=False)\n",
    "# fvm.plot_rna(cg, text_kwargs={\"fontweight\":\"black\"}, lighten=0.7,\n",
    "#              backbone_kwargs={\"linewidth\":3})\n",
    "# plt.show()\n",
    "from scipy.linalg import block_diag\n",
    "%matplotlib inline"
   ]
  },
  {
   "cell_type": "code",
   "execution_count": 7,
   "metadata": {
    "Collapsed": "false"
   },
   "outputs": [],
   "source": [
    "df = pd.read_json(\"../data/train.json\",lines=True)"
   ]
  },
  {
   "cell_type": "code",
   "execution_count": 16,
   "metadata": {
    "Collapsed": "false"
   },
   "outputs": [],
   "source": [
    "def create_cg(sequence, structure):\n",
    "    with open('./tmp/tmp_seq.dbn','w') as f:\n",
    "        f.write('\\n'.join([sequence, structure]))\n",
    "    cgs = forgi.load_rna('./tmp/tmp_seq.dbn')\n",
    "    assert len(cgs) == 1\n",
    "    cg, = cgs\n",
    "    return cg"
   ]
  },
  {
   "cell_type": "code",
   "execution_count": 17,
   "metadata": {
    "Collapsed": "false"
   },
   "outputs": [
    {
     "data": {
      "application/vnd.jupyter.widget-view+json": {
       "model_id": "2bff3132511242bcbbebecb9d75773f7",
       "version_major": 2,
       "version_minor": 0
      },
      "text/plain": [
       "HBox(children=(FloatProgress(value=0.0, max=2400.0), HTML(value='')))"
      ]
     },
     "metadata": {},
     "output_type": "display_data"
    },
    {
     "name": "stdout",
     "output_type": "stream",
     "text": [
      "\n"
     ]
    }
   ],
   "source": [
    "cgs = {}\n",
    "for id_, sequence, structure in tqdm(df[['id', 'sequence', 'structure']].values):\n",
    "    cgs[id_] = create_cg(sequence, structure)"
   ]
  },
  {
   "cell_type": "code",
   "execution_count": 25,
   "metadata": {
    "Collapsed": "false"
   },
   "outputs": [
    {
     "data": {
      "text/plain": [
       "'EEEEESSSSSSHHHHHHHSSSSBSSXSSIIIIISSIISSSSSSHHHHSSSSSSIISSIIIIISSXXXXSSSSSSSHHHHSSSSSSSEEEEEEEEEEEEEEEEEEEEE'"
      ]
     },
     "execution_count": 25,
     "metadata": {},
     "output_type": "execute_result"
    }
   ],
   "source": [
    "df.iloc[0].predicted_loop_type"
   ]
  },
  {
   "cell_type": "code",
   "execution_count": 26,
   "metadata": {
    "Collapsed": "false"
   },
   "outputs": [
    {
     "data": {
      "text/plain": [
       "'.....((((((.......)))).)).((.....((..((((((....))))))..)).....))....(((((((....))))))).....................'"
      ]
     },
     "execution_count": 26,
     "metadata": {},
     "output_type": "execute_result"
    }
   ],
   "source": [
    "df.iloc[0].structure"
   ]
  },
  {
   "cell_type": "code",
   "execution_count": 43,
   "metadata": {
    "Collapsed": "false"
   },
   "outputs": [],
   "source": [
    "cg = [cg for cg in cgs.values() if any(k[0] == 'i' for k in cg.defines)][0]"
   ]
  },
  {
   "cell_type": "code",
   "execution_count": 44,
   "metadata": {
    "Collapsed": "false"
   },
   "outputs": [
    {
     "data": {
      "text/plain": [
       "{'f0': [1, 5],\n",
       " 't0': [87, 107],\n",
       " 's0': [6, 7, 24, 25],\n",
       " 's1': [8, 11, 19, 22],\n",
       " 's2': [27, 28, 63, 64],\n",
       " 's3': [34, 35, 56, 57],\n",
       " 's4': [38, 43, 48, 53],\n",
       " 's5': [69, 75, 80, 86],\n",
       " 'i0': [23, 23],\n",
       " 'i1': [29, 33, 58, 62],\n",
       " 'i2': [36, 37, 54, 55],\n",
       " 'm0': [26, 26],\n",
       " 'm1': [65, 68],\n",
       " 'h0': [12, 18],\n",
       " 'h1': [44, 47],\n",
       " 'h2': [76, 79]}"
      ]
     },
     "execution_count": 44,
     "metadata": {},
     "output_type": "execute_result"
    }
   ],
   "source": [
    "cg.defines"
   ]
  },
  {
   "cell_type": "markdown",
   "metadata": {
    "Collapsed": "false"
   },
   "source": [
    "```\n",
    "    fiveprime: The unpaired nucleotides at the 5’ end of a molecule/ chain. Name always starts with ‘f’ (e.g. ‘f0’).\n",
    "    threeprime: The unpaired nucleotides at the 3’ end of a molecule/ chain. Name always start with ‘t’ (e.g. ‘t0’)\n",
    "\n",
    "    stem: Regions of contiguous canonical Watson-Crick base-paired nucleotides. By default, stems have at least 2 consecutive basepairs.\n",
    "        Always start with ‘s’ (e.g., ‘s0’, ‘s1’, ‘s2’, …)\n",
    "\n",
    "    interior loop: Bulged out nucleotides and interior loops. An interior loop can contain unpaired bases on either strand or on both strands, flanked by stems on either side.\n",
    "        Always start with ‘i’ (‘i0’, ‘i1’, ‘i2’,…)\n",
    "\n",
    "    multiloop segment: Single-stranded regions bewteen two stems. Always start with ‘m’. (‘m0’, ‘m1’, ‘m2’…)\n",
    "        In the current version of forgi, pseudo-knots and exterior loops segments between stems are treated as multiloop segments.\n",
    "\n",
    "    hairpin loop: Always starts with ‘h’.\n",
    "```"
   ]
  },
  {
   "cell_type": "code",
   "execution_count": 65,
   "metadata": {
    "Collapsed": "false"
   },
   "outputs": [
    {
     "data": {
      "text/plain": [
       "{'f0': [1, 5],\n",
       " 't0': [87, 107],\n",
       " 's0': [6, 7, 24, 25],\n",
       " 's1': [8, 11, 19, 22],\n",
       " 's2': [27, 28, 63, 64],\n",
       " 's3': [34, 35, 56, 57],\n",
       " 's4': [38, 43, 48, 53],\n",
       " 's5': [69, 75, 80, 86],\n",
       " 'i0': [23, 23],\n",
       " 'i1': [29, 33, 58, 62],\n",
       " 'i2': [36, 37, 54, 55],\n",
       " 'm0': [26, 26],\n",
       " 'm1': [65, 68],\n",
       " 'h0': [12, 18],\n",
       " 'h1': [44, 47],\n",
       " 'h2': [76, 79]}"
      ]
     },
     "execution_count": 65,
     "metadata": {},
     "output_type": "execute_result"
    }
   ],
   "source": [
    "cg.defines"
   ]
  },
  {
   "cell_type": "code",
   "execution_count": 79,
   "metadata": {
    "Collapsed": "false"
   },
   "outputs": [],
   "source": [
    "def cg_to_d(cg):\n",
    "    nodes = {}\n",
    "    edges = []\n",
    "    for name, items in cg.defines.items():\n",
    "        segments = None\n",
    "        if len(items) == 2:\n",
    "            segments = [items]\n",
    "        elif len(items) == 4:\n",
    "            segments = [items[:2],items[2:]]\n",
    "        elif len(items) == 0:\n",
    "            segments = []\n",
    "        else:\n",
    "            print(name, items)\n",
    "            assert False\n",
    "        segments = [(seg[0]-1, seg[1]) for seg in segments]\n",
    "        nodes[name] = segments\n",
    "    for edge_start, edge_ends in cg.edges.items():\n",
    "        for edge_end in edge_ends:\n",
    "            edges.append((edge_start,edge_end))\n",
    "    return {\"nodes\":nodes, \"edges\":edges}"
   ]
  },
  {
   "cell_type": "code",
   "execution_count": 80,
   "metadata": {
    "Collapsed": "false"
   },
   "outputs": [],
   "source": [
    "cg_train_graphs = {}\n",
    "for id_, cg in cgs.items():\n",
    "    try:\n",
    "        cg_train_graphs[id_] = cg_to_d(cg)\n",
    "    except Exception as e:\n",
    "        print(id_)"
   ]
  },
  {
   "cell_type": "code",
   "execution_count": 84,
   "metadata": {
    "Collapsed": "false"
   },
   "outputs": [],
   "source": [
    "!mkdir ../data/cg_graphs"
   ]
  },
  {
   "cell_type": "code",
   "execution_count": 88,
   "metadata": {
    "Collapsed": "false"
   },
   "outputs": [
    {
     "data": {
      "text/plain": [
       "{'f0': [(0, 5)],\n",
       " 't0': [(86, 107)],\n",
       " 's0': [(5, 18), (43, 56)],\n",
       " 's1': [(18, 28), (32, 42)],\n",
       " 's2': [(58, 61), (64, 67)],\n",
       " 's3': [(68, 75), (79, 86)],\n",
       " 'i0': [(42, 43)],\n",
       " 'm0': [(56, 58)],\n",
       " 'm1': [(67, 68)],\n",
       " 'h0': [(28, 32)],\n",
       " 'h1': [(61, 64)],\n",
       " 'h2': [(75, 79)]}"
      ]
     },
     "execution_count": 88,
     "metadata": {},
     "output_type": "execute_result"
    }
   ],
   "source": [
    "cg_train_graphs['id_0049f53ba']['nodes']"
   ]
  },
  {
   "cell_type": "code",
   "execution_count": 91,
   "metadata": {
    "Collapsed": "false"
   },
   "outputs": [
    {
     "data": {
      "text/plain": [
       "{'f': 0, 't': 1, 's': 2, 'i': 3, 'm': 4, 'h': 5}"
      ]
     },
     "execution_count": 91,
     "metadata": {},
     "output_type": "execute_result"
    }
   ],
   "source": [
    " {v:k for k, v in enumerate(\"ftsimh\")}"
   ]
  },
  {
   "cell_type": "code",
   "execution_count": 98,
   "metadata": {
    "Collapsed": "false"
   },
   "outputs": [],
   "source": [
    "import numpy as np"
   ]
  },
  {
   "cell_type": "code",
   "execution_count": 170,
   "metadata": {
    "Collapsed": "false"
   },
   "outputs": [],
   "source": [
    "def create_bungle_features(cg_nodes):\n",
    "    type_dict = {'f': 0, 't': 1, 's': 2, 'i': 3, 'm': 4, 'h': 5}\n",
    "    features = np.zeros((len(cg_nodes),len(type_dict)+1))\n",
    "    for index, (node_name, segments) in enumerate(cg_nodes.items()):\n",
    "        features[index][type_dict[node_name[0]]] = 1\n",
    "        num_b = sum(seg[1]-seg[0] for seg in segments)\n",
    "        features[index][-1] = num_b\n",
    "    return features"
   ]
  },
  {
   "cell_type": "code",
   "execution_count": 100,
   "metadata": {
    "Collapsed": "false"
   },
   "outputs": [],
   "source": [
    "def seq2nodes(sequence, loop_type):\n",
    "    type_dict={'A':0,'G':1,'U':2,'C':3}\n",
    "    type_loop = {'E': 0, 'H': 1, 'M': 2, 'I': 3, 'X': 4, 'S': 5, 'B': 6}\n",
    "    nodes=np.zeros((len(sequence),4))\n",
    "    loops = np.zeros((len(sequence), len(type_loop)))\n",
    "    for i,(s,lt) in enumerate(zip(sequence, loop_type)):\n",
    "        nodes[i,type_dict[s]]=1\n",
    "        loops[i,type_loop[lt]] = 1\n",
    "    nodes = np.concatenate([nodes, loops],axis=-1)\n",
    "    return nodes"
   ]
  },
  {
   "cell_type": "code",
   "execution_count": 103,
   "metadata": {
    "Collapsed": "false"
   },
   "outputs": [],
   "source": [
    "id_, sequence, loop_type = df.iloc[0][['id', 'sequence', 'predicted_loop_type']].values"
   ]
  },
  {
   "cell_type": "code",
   "execution_count": 124,
   "metadata": {
    "Collapsed": "false"
   },
   "outputs": [],
   "source": [
    "x = seq2nodes(sequence, loop_type)"
   ]
  },
  {
   "cell_type": "code",
   "execution_count": 107,
   "metadata": {
    "Collapsed": "false"
   },
   "outputs": [],
   "source": [
    "cg_nodes = cg_train_graphs[id_]['nodes']"
   ]
  },
  {
   "cell_type": "code",
   "execution_count": 131,
   "metadata": {
    "Collapsed": "false"
   },
   "outputs": [],
   "source": [
    "cg_graph = cg_train_graphs[id_]"
   ]
  },
  {
   "cell_type": "code",
   "execution_count": 121,
   "metadata": {
    "Collapsed": "false"
   },
   "outputs": [],
   "source": [
    "cg_features = bungle_features(cg_nodes)"
   ]
  },
  {
   "cell_type": "code",
   "execution_count": 123,
   "metadata": {
    "Collapsed": "false"
   },
   "outputs": [
    {
     "data": {
      "text/plain": [
       "array([[ 1.,  0.,  0.,  0.,  0.,  0.,  5.],\n",
       "       [ 0.,  1.,  0.,  0.,  0.,  0., 21.],\n",
       "       [ 0.,  0.,  1.,  0.,  0.,  0.,  4.],\n",
       "       [ 0.,  0.,  1.,  0.,  0.,  0.,  8.],\n",
       "       [ 0.,  0.,  1.,  0.,  0.,  0.,  4.],\n",
       "       [ 0.,  0.,  1.,  0.,  0.,  0.,  4.],\n",
       "       [ 0.,  0.,  1.,  0.,  0.,  0., 12.],\n",
       "       [ 0.,  0.,  1.,  0.,  0.,  0., 14.],\n",
       "       [ 0.,  0.,  0.,  1.,  0.,  0.,  1.],\n",
       "       [ 0.,  0.,  0.,  1.,  0.,  0., 10.],\n",
       "       [ 0.,  0.,  0.,  1.,  0.,  0.,  4.],\n",
       "       [ 0.,  0.,  0.,  0.,  1.,  0.,  1.],\n",
       "       [ 0.,  0.,  0.,  0.,  1.,  0.,  4.],\n",
       "       [ 0.,  0.,  0.,  0.,  0.,  1.,  7.],\n",
       "       [ 0.,  0.,  0.,  0.,  0.,  1.,  4.],\n",
       "       [ 0.,  0.,  0.,  0.,  0.,  1.,  4.]])"
      ]
     },
     "execution_count": 123,
     "metadata": {},
     "output_type": "execute_result"
    }
   ],
   "source": [
    "cg_features"
   ]
  },
  {
   "cell_type": "code",
   "execution_count": 126,
   "metadata": {
    "Collapsed": "false"
   },
   "outputs": [
    {
     "data": {
      "text/plain": [
       "array([0., 1., 0., 0., 1., 0., 0., 0., 0., 0., 0.])"
      ]
     },
     "execution_count": 126,
     "metadata": {},
     "output_type": "execute_result"
    }
   ],
   "source": [
    "x[0]"
   ]
  },
  {
   "cell_type": "code",
   "execution_count": 171,
   "metadata": {
    "Collapsed": "false"
   },
   "outputs": [],
   "source": [
    "def add_bungle_nodes(x, cg_graph):\n",
    "    x = np.concatenate([x,np.ones((x.shape[0],1))], axis=1)\n",
    "    cg_nodes = cg_graph['nodes']\n",
    "    x_len,x_dim = x.shape\n",
    "    node2idx = {node:index for index,node in enumerate(cg_nodes,start=x_len)}\n",
    "    cg_x = create_bungle_features(cg_nodes)\n",
    "    cg_x = np.concatenate([cg_x,np.ones((cg_x.shape[0],1))], axis=1)\n",
    "    cg_x_len, cg_x_dim = cg_x.shape\n",
    "    features = block_diag(x, cg_x)\n",
    "    return features, node2idx"
   ]
  },
  {
   "cell_type": "code",
   "execution_count": 159,
   "metadata": {
    "Collapsed": "false"
   },
   "outputs": [],
   "source": [
    "bungle_features, node2idx = add_bungle_nodes(x, cg_graph)"
   ]
  },
  {
   "cell_type": "code",
   "execution_count": 174,
   "metadata": {
    "Collapsed": "false"
   },
   "outputs": [],
   "source": [
    "bungle_features_2, node2idx_2 = add_bungle_nodes(x, cg_graph)"
   ]
  },
  {
   "cell_type": "code",
   "execution_count": 187,
   "metadata": {
    "Collapsed": "false"
   },
   "outputs": [
    {
     "data": {
      "text/plain": [
       "{'f0': 107,\n",
       " 't0': 108,\n",
       " 's0': 109,\n",
       " 's1': 110,\n",
       " 's2': 111,\n",
       " 's3': 112,\n",
       " 's4': 113,\n",
       " 's5': 114,\n",
       " 'i0': 115,\n",
       " 'i1': 116,\n",
       " 'i2': 117,\n",
       " 'm0': 118,\n",
       " 'm1': 119,\n",
       " 'h0': 120,\n",
       " 'h1': 121,\n",
       " 'h2': 122}"
      ]
     },
     "execution_count": 187,
     "metadata": {},
     "output_type": "execute_result"
    }
   ],
   "source": [
    "node2idx"
   ]
  },
  {
   "cell_type": "code",
   "execution_count": 202,
   "metadata": {
    "Collapsed": "false"
   },
   "outputs": [],
   "source": [
    "def get_couples(structure):\n",
    "    \"\"\"\n",
    "    For each closing parenthesis, I find the matching opening one and store their index in the couples list.\n",
    "    The assigned list is used to keep track of the assigned opening parenthesis\n",
    "    \"\"\"\n",
    "    opened = [idx for idx, i in enumerate(structure) if i == \"(\"]\n",
    "    closed = [idx for idx, i in enumerate(structure) if i == \")\"]\n",
    "\n",
    "    assert len(opened) == len(closed)\n",
    "\n",
    "    assigned = []\n",
    "    couples = []\n",
    "\n",
    "    for close_idx in closed:\n",
    "        for open_idx in opened:\n",
    "            if open_idx < close_idx:\n",
    "                if open_idx not in assigned:\n",
    "                    candidate = open_idx\n",
    "            else:\n",
    "                break\n",
    "        assigned.append(candidate)\n",
    "        couples.append((candidate, close_idx))\n",
    "        assigned.append(close_idx)\n",
    "        couples.append((close_idx, candidate))\n",
    "\n",
    "    assert len(couples) == 2 * len(opened)\n",
    "\n",
    "    return couples\n",
    "\n",
    "\n",
    "def build_matrix(couples, size):\n",
    "    mat = np.zeros((size, size))\n",
    "\n",
    "    for i in range(size):  # neigbouring bases are linked as well\n",
    "        if i < size - 1:\n",
    "            mat[i, i + 1] = 1\n",
    "        if i > 0:\n",
    "            mat[i, i - 1] = 1\n",
    "\n",
    "    for i, j in couples:\n",
    "        mat[i, j] = 2\n",
    "        mat[j, i] = 2\n",
    "\n",
    "    return mat\n"
   ]
  },
  {
   "cell_type": "code",
   "execution_count": 207,
   "metadata": {
    "Collapsed": "false"
   },
   "outputs": [],
   "source": [
    "def seq2edge_index(structure):\n",
    "    couples = sorted(set(get_couples(structure)))\n",
    "    couples = np.array(couples).T\n",
    "    neig = np.array([np.arange(0,len(structure) -1), np.arange(1,len(structure))])\n",
    "    neig2 = neig[::-1,::]\n",
    "    edge_index = np.concatenate([couples, neig, neig2], axis=1)\n",
    "    edges_type = np.array([1]*couples.shape[1] + [2]*neig.shape[1]*2)\n",
    "\n",
    "    return edge_index, edges_type\n",
    "\n",
    "def edge_index2features(edge_index, edges_type, node_features):\n",
    "    edge_type_f = np.zeros((edge_index.shape[1],2))\n",
    "    for ty in [1,2]:\n",
    "        edge_type_f[:,ty-1] = (edges_type == ty).astype(int)\n",
    "    edge_direction = np.stack([(edge_index[1,] - edge_index[0,] == 1).astype(int),\n",
    "                          (edge_index[0,] - edge_index[1,] == 1).astype(int)]).T\n",
    "    edge_features = np.concatenate([edge_type_f,edge_direction],axis=-1)\n",
    "    return edge_features\n",
    "\n",
    "def seq2edges(structure, node_features):\n",
    "    edge_index, edges_type = seq2edge_index(structure)\n",
    "    edge_features = edge_index2features(edge_index, edges_type, node_features)\n",
    "    return edge_index, edge_features\n",
    "\n",
    "def cg2edges(cg_graph, node2idx):\n",
    "    features = []\n",
    "    indexes = []\n",
    "    for node_name, segments in cg_graph['nodes'].items():\n",
    "        node_idx = node2idx[node_name]\n",
    "        for seg in segments:\n",
    "            for idx in range(*seg):\n",
    "                indexes.append((node_idx,idx))\n",
    "                features.append([1,0,0])\n",
    "                indexes.append((idx, node_idx))\n",
    "                features.append([0,1,0])\n",
    "    for node_1,node_2 in cg_graph['edges']:\n",
    "        indexes.append((node2idx[node_1],node2idx[node_2]))\n",
    "        features.append([0,0,1])\n",
    "    indexes = np.array(indexes).T\n",
    "    features = np.array(features)\n",
    "    return indexes, features\n",
    "\n",
    "def create_edges(structure, node_features, cg_graph,):\n",
    "    edge_index_nuc, edge_features_nuc = seq2edges(structure, node_features)\n",
    "    edge_index_bungle, edge_features_bungle = cg2edges(cg_graph, node2idx)\n",
    "    edge_index = np.concatenate([edge_index_nuc,edge_index_bungle],axis=1)\n",
    "    edge_from = node_features[edge_index[0,]]\n",
    "    edge_to = node_features[edge_index[1,]]\n",
    "    edge_features = block_diag(edge_features_nuc, edge_features_bungle)\n",
    "    edge_features = np.concatenate([edge_features, edge_from,edge_to],axis=1)\n",
    "    return edge_index, edge_features"
   ]
  },
  {
   "cell_type": "code",
   "execution_count": null,
   "metadata": {
    "Collapsed": "false"
   },
   "outputs": [],
   "source": []
  }
 ],
 "metadata": {
  "kernelspec": {
   "display_name": "graph_openvaccine",
   "language": "python",
   "name": "graph_openvaccine"
  },
  "language_info": {
   "codemirror_mode": {
    "name": "ipython",
    "version": 3
   },
   "file_extension": ".py",
   "mimetype": "text/x-python",
   "name": "python",
   "nbconvert_exporter": "python",
   "pygments_lexer": "ipython3",
   "version": "3.7.8"
  }
 },
 "nbformat": 4,
 "nbformat_minor": 4
}
