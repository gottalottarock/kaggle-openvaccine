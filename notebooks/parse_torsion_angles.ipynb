{
 "cells": [
  {
   "cell_type": "code",
   "execution_count": 62,
   "metadata": {
    "Collapsed": "false"
   },
   "outputs": [],
   "source": [
    "import numpy as np\n",
    "from pathlib import Path\n",
    "import pandas as pd\n",
    "from tqdm.auto import tqdm"
   ]
  },
  {
   "cell_type": "code",
   "execution_count": 1,
   "metadata": {
    "Collapsed": "false"
   },
   "outputs": [],
   "source": [
    "with open(\"../torsions/id_00073f8be.tor\") as f:\n",
    "    lines = list(f)"
   ]
  },
  {
   "cell_type": "code",
   "execution_count": 2,
   "metadata": {
    "Collapsed": "false"
   },
   "outputs": [
    {
     "data": {
      "text/plain": [
       "' -68.2  BI\\n'"
      ]
     },
     "execution_count": 2,
     "metadata": {},
     "output_type": "execute_result"
    }
   ],
   "source": [
    "lines[21][88:]"
   ]
  },
  {
   "cell_type": "code",
   "execution_count": 58,
   "metadata": {
    "Collapsed": "false"
   },
   "outputs": [],
   "source": [
    "def angle_to_flot(s):\n",
    "    if '---' in s :\n",
    "        return None\n",
    "    else:\n",
    "        return float(s)"
   ]
  },
  {
   "cell_type": "code",
   "execution_count": 57,
   "metadata": {
    "Collapsed": "false"
   },
   "outputs": [],
   "source": [
    "def get_angles(lines):\n",
    "    angles = []\n",
    "    for line in lines[21:]:\n",
    "        if line.startswith(\"***\"):\n",
    "            break\n",
    "        rec = {}\n",
    "        rec['chi'] = angle_to_flot(line[26:32])\n",
    "        rec['alfa'] = angle_to_flot(line[40:46])\n",
    "        rec['beta'] = angle_to_flot(line[48:54])\n",
    "        rec['gamma'] = angle_to_flot(line[56:62])\n",
    "        rec['delta'] = angle_to_flot(line[64:70])\n",
    "        rec['epsilon'] = angle_to_flot(line[72:78])\n",
    "        rec['zeta'] = angle_to_flot(line[80:86])\n",
    "        rec['e-z'] = angle_to_flot(line[88:94])\n",
    "        angles.append(rec)\n",
    "    return angles"
   ]
  },
  {
   "cell_type": "code",
   "execution_count": 36,
   "metadata": {
    "Collapsed": "false"
   },
   "outputs": [],
   "source": [
    "torsions = pd.DataFrame(get_angles()).values"
   ]
  },
  {
   "cell_type": "code",
   "execution_count": 39,
   "metadata": {
    "Collapsed": "false"
   },
   "outputs": [
    {
     "data": {
      "text/plain": [
       "7.446921003909191e+77"
      ]
     },
     "execution_count": 39,
     "metadata": {},
     "output_type": "execute_result"
    }
   ],
   "source": [
    "np.cos(180)"
   ]
  },
  {
   "cell_type": "code",
   "execution_count": 45,
   "metadata": {
    "Collapsed": "false"
   },
   "outputs": [],
   "source": [
    "torsions_cos = np.cos(np.deg2rad(torsions))"
   ]
  },
  {
   "cell_type": "code",
   "execution_count": 46,
   "metadata": {
    "Collapsed": "false"
   },
   "outputs": [],
   "source": [
    "torsions_sin = np.sin(np.deg2rad(torsions))"
   ]
  },
  {
   "cell_type": "code",
   "execution_count": 50,
   "metadata": {
    "Collapsed": "false"
   },
   "outputs": [],
   "source": [
    "angles = np.concatenate([torsions_cos, torsions_sin],axis=-1)"
   ]
  },
  {
   "cell_type": "code",
   "execution_count": 55,
   "metadata": {
    "Collapsed": "false"
   },
   "outputs": [],
   "source": [
    "angles[np.isnan(angles)] = -2"
   ]
  },
  {
   "cell_type": "code",
   "execution_count": 56,
   "metadata": {
    "Collapsed": "false"
   },
   "outputs": [
    {
     "data": {
      "text/plain": [
       "array([[-0.97277588, -2.        , -0.9198215 , ..., -0.55629562,\n",
       "        -0.9781476 , -0.92848583],\n",
       "       [-0.97277588,  0.49545867, -0.9958844 , ..., -0.55193699,\n",
       "        -2.        , -2.        ],\n",
       "       [-0.99978068, -2.        , -2.        , ..., -0.9640954 ,\n",
       "        -2.        , -2.        ],\n",
       "       ...,\n",
       "       [-0.97397597,  0.57357644, -0.9198215 , ...,  0.6481199 ,\n",
       "        -2.        , -2.        ],\n",
       "       [-0.9826128 , -2.        , -2.        , ..., -2.        ,\n",
       "        -2.        , -2.        ],\n",
       "       [ 0.99862953, -2.        , -2.        , ..., -2.        ,\n",
       "        -2.        , -2.        ]])"
      ]
     },
     "execution_count": 56,
     "metadata": {},
     "output_type": "execute_result"
    }
   ],
   "source": [
    "angles"
   ]
  },
  {
   "cell_type": "code",
   "execution_count": 64,
   "metadata": {
    "Collapsed": "false"
   },
   "outputs": [],
   "source": [
    "def file_to_torsins(file):\n",
    "    with file.open('r') as f:\n",
    "        lines = list(f)\n",
    "    torsions = pd.DataFrame(get_angles(lines)).values\n",
    "    torsions_cos = np.cos(np.deg2rad(torsions))\n",
    "    torsions_sin = np.sin(np.deg2rad(torsions))\n",
    "    angles = np.concatenate([torsions_cos, torsions_sin],axis=-1)\n",
    "    angles[np.isnan(angles)] = -2\n",
    "    return angles"
   ]
  },
  {
   "cell_type": "code",
   "execution_count": 66,
   "metadata": {
    "Collapsed": "false"
   },
   "outputs": [
    {
     "data": {
      "application/vnd.jupyter.widget-view+json": {
       "model_id": "ff283076a7d84b6fb8e58b9c5c1748b1",
       "version_major": 2,
       "version_minor": 0
      },
      "text/plain": [
       "HBox(children=(FloatProgress(value=1.0, bar_style='info', layout=Layout(width='20px'), max=1.0), HTML(value=''…"
      ]
     },
     "metadata": {},
     "output_type": "display_data"
    },
    {
     "name": "stdout",
     "output_type": "stream",
     "text": [
      "\n"
     ]
    }
   ],
   "source": [
    "torsions = []\n",
    "for file in tqdm(Path('../torsions/').glob(\"*.tor\")):\n",
    "    angles = file_to_torsins(file)\n",
    "    torsions.append((file, angles))"
   ]
  },
  {
   "cell_type": "code",
   "execution_count": 69,
   "metadata": {
    "Collapsed": "false"
   },
   "outputs": [],
   "source": [
    "!mkdir ../data/torsions"
   ]
  },
  {
   "cell_type": "code",
   "execution_count": 70,
   "metadata": {
    "Collapsed": "false"
   },
   "outputs": [],
   "source": [
    "base = Path(\"../data/torsions/\")"
   ]
  },
  {
   "cell_type": "code",
   "execution_count": 72,
   "metadata": {
    "Collapsed": "false"
   },
   "outputs": [],
   "source": [
    "for file, tor in torsions:\n",
    "    np.save(base/(file.stem+'.npy'),tor,allow_pickle=False)"
   ]
  },
  {
   "cell_type": "code",
   "execution_count": null,
   "metadata": {
    "Collapsed": "false"
   },
   "outputs": [],
   "source": []
  }
 ],
 "metadata": {
  "kernelspec": {
   "display_name": "graph_openvaccine",
   "language": "python",
   "name": "graph_openvaccine"
  },
  "language_info": {
   "codemirror_mode": {
    "name": "ipython",
    "version": 3
   },
   "file_extension": ".py",
   "mimetype": "text/x-python",
   "name": "python",
   "nbconvert_exporter": "python",
   "pygments_lexer": "ipython3",
   "version": "3.7.8"
  }
 },
 "nbformat": 4,
 "nbformat_minor": 4
}
